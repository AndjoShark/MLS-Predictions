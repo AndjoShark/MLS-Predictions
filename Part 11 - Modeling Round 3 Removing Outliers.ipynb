{
 "cells": [
  {
   "cell_type": "code",
   "execution_count": 1,
   "metadata": {
    "collapsed": true
   },
   "outputs": [],
   "source": [
    "import pandas as pd\n",
    "import numpy as np\n",
    "from matplotlib import pyplot as plt\n",
    "import seaborn as sns\n",
    "from sklearn.linear_model import Ridge\n",
    "from sklearn.linear_model import Lasso\n",
    "from sklearn.linear_model import LinearRegression\n",
    "from sklearn.neighbors import KNeighborsRegressor\n",
    "from sklearn.ensemble import RandomForestRegressor\n",
    "from sklearn.ensemble import GradientBoostingRegressor\n",
    "from sklearn.model_selection import cross_val_score\n",
    "from sklearn.model_selection import GridSearchCV\n",
    "from sklearn.model_selection import train_test_split\n",
    "from sklearn.model_selection import KFold\n",
    "from sklearn.model_selection import cross_val_predict\n",
    "from sklearn.metrics import make_scorer\n",
    "from sklearn.metrics import mean_squared_error\n",
    "from sklearn.metrics import r2_score\n",
    "from sklearn.svm import SVR\n",
    "from sklearn.linear_model import TheilSenRegressor, RANSACRegressor, HuberRegressor\n",
    "\n",
    "df = pd.read_csv('modelingdf.csv')\n",
    "df = df.drop('Unnamed: 0', axis =1)"
   ]
  },
  {
   "cell_type": "code",
   "execution_count": 2,
   "metadata": {},
   "outputs": [
    {
     "data": {
      "text/html": [
       "<div>\n",
       "<style>\n",
       "    .dataframe thead tr:only-child th {\n",
       "        text-align: right;\n",
       "    }\n",
       "\n",
       "    .dataframe thead th {\n",
       "        text-align: left;\n",
       "    }\n",
       "\n",
       "    .dataframe tbody tr th {\n",
       "        vertical-align: top;\n",
       "    }\n",
       "</style>\n",
       "<table border=\"1\" class=\"dataframe\">\n",
       "  <thead>\n",
       "    <tr style=\"text-align: right;\">\n",
       "      <th></th>\n",
       "      <th>A</th>\n",
       "      <th>FC</th>\n",
       "      <th>G</th>\n",
       "      <th>GP</th>\n",
       "      <th>GS</th>\n",
       "      <th>MINS</th>\n",
       "      <th>OFF</th>\n",
       "      <th>R</th>\n",
       "      <th>SHTS</th>\n",
       "      <th>SOG</th>\n",
       "      <th>Y</th>\n",
       "      <th>season</th>\n",
       "      <th>club</th>\n",
       "      <th>position</th>\n",
       "      <th>next_year_compensation</th>\n",
       "      <th>name</th>\n",
       "      <th>current_compensation</th>\n",
       "    </tr>\n",
       "  </thead>\n",
       "  <tbody>\n",
       "    <tr>\n",
       "      <th>0</th>\n",
       "      <td>0.0</td>\n",
       "      <td>7.0</td>\n",
       "      <td>0.0</td>\n",
       "      <td>8.0</td>\n",
       "      <td>5.0</td>\n",
       "      <td>460.0</td>\n",
       "      <td>3.0</td>\n",
       "      <td>0.0</td>\n",
       "      <td>8.0</td>\n",
       "      <td>3.0</td>\n",
       "      <td>0.0</td>\n",
       "      <td>2007</td>\n",
       "      <td>CLB</td>\n",
       "      <td>M</td>\n",
       "      <td>12900</td>\n",
       "      <td>brian plotkin</td>\n",
       "      <td>30000</td>\n",
       "    </tr>\n",
       "    <tr>\n",
       "      <th>1</th>\n",
       "      <td>4.0</td>\n",
       "      <td>28.0</td>\n",
       "      <td>3.0</td>\n",
       "      <td>30.0</td>\n",
       "      <td>11.0</td>\n",
       "      <td>1241.0</td>\n",
       "      <td>4.0</td>\n",
       "      <td>0.0</td>\n",
       "      <td>38.0</td>\n",
       "      <td>16.0</td>\n",
       "      <td>5.0</td>\n",
       "      <td>2007</td>\n",
       "      <td>CHI</td>\n",
       "      <td>F</td>\n",
       "      <td>63100</td>\n",
       "      <td>calen carr</td>\n",
       "      <td>50500</td>\n",
       "    </tr>\n",
       "    <tr>\n",
       "      <th>2</th>\n",
       "      <td>2.0</td>\n",
       "      <td>21.0</td>\n",
       "      <td>8.0</td>\n",
       "      <td>33.0</td>\n",
       "      <td>28.0</td>\n",
       "      <td>2181.0</td>\n",
       "      <td>37.0</td>\n",
       "      <td>0.0</td>\n",
       "      <td>65.0</td>\n",
       "      <td>41.0</td>\n",
       "      <td>3.0</td>\n",
       "      <td>2007</td>\n",
       "      <td>TFC</td>\n",
       "      <td>F</td>\n",
       "      <td>61273</td>\n",
       "      <td>chad barrett</td>\n",
       "      <td>48713</td>\n",
       "    </tr>\n",
       "    <tr>\n",
       "      <th>3</th>\n",
       "      <td>3.0</td>\n",
       "      <td>15.0</td>\n",
       "      <td>8.0</td>\n",
       "      <td>22.0</td>\n",
       "      <td>21.0</td>\n",
       "      <td>1721.0</td>\n",
       "      <td>5.0</td>\n",
       "      <td>0.0</td>\n",
       "      <td>44.0</td>\n",
       "      <td>22.0</td>\n",
       "      <td>1.0</td>\n",
       "      <td>2007</td>\n",
       "      <td>CHI</td>\n",
       "      <td>F</td>\n",
       "      <td>86075</td>\n",
       "      <td>chris rolfe</td>\n",
       "      <td>74700</td>\n",
       "    </tr>\n",
       "    <tr>\n",
       "      <th>4</th>\n",
       "      <td>0.0</td>\n",
       "      <td>43.0</td>\n",
       "      <td>1.0</td>\n",
       "      <td>26.0</td>\n",
       "      <td>24.0</td>\n",
       "      <td>2044.0</td>\n",
       "      <td>2.0</td>\n",
       "      <td>0.0</td>\n",
       "      <td>11.0</td>\n",
       "      <td>3.0</td>\n",
       "      <td>4.0</td>\n",
       "      <td>2007</td>\n",
       "      <td>CHI</td>\n",
       "      <td>D</td>\n",
       "      <td>44625</td>\n",
       "      <td>dasan robinson</td>\n",
       "      <td>42500</td>\n",
       "    </tr>\n",
       "  </tbody>\n",
       "</table>\n",
       "</div>"
      ],
      "text/plain": [
       "     A    FC    G    GP    GS    MINS   OFF    R  SHTS   SOG    Y  season  \\\n",
       "0  0.0   7.0  0.0   8.0   5.0   460.0   3.0  0.0   8.0   3.0  0.0    2007   \n",
       "1  4.0  28.0  3.0  30.0  11.0  1241.0   4.0  0.0  38.0  16.0  5.0    2007   \n",
       "2  2.0  21.0  8.0  33.0  28.0  2181.0  37.0  0.0  65.0  41.0  3.0    2007   \n",
       "3  3.0  15.0  8.0  22.0  21.0  1721.0   5.0  0.0  44.0  22.0  1.0    2007   \n",
       "4  0.0  43.0  1.0  26.0  24.0  2044.0   2.0  0.0  11.0   3.0  4.0    2007   \n",
       "\n",
       "  club position  next_year_compensation            name  current_compensation  \n",
       "0  CLB        M                   12900   brian plotkin                 30000  \n",
       "1  CHI        F                   63100      calen carr                 50500  \n",
       "2  TFC        F                   61273    chad barrett                 48713  \n",
       "3  CHI        F                   86075     chris rolfe                 74700  \n",
       "4  CHI        D                   44625  dasan robinson                 42500  "
      ]
     },
     "execution_count": 2,
     "metadata": {},
     "output_type": "execute_result"
    }
   ],
   "source": [
    "df.head()"
   ]
  },
  {
   "cell_type": "code",
   "execution_count": 3,
   "metadata": {},
   "outputs": [
    {
     "data": {
      "text/plain": [
       "(2360, 53)"
      ]
     },
     "execution_count": 3,
     "metadata": {},
     "output_type": "execute_result"
    }
   ],
   "source": [
    "df = df.drop('name', axis=1)\n",
    "df = pd.get_dummies(df)\n",
    "df.shape"
   ]
  },
  {
   "cell_type": "code",
   "execution_count": 4,
   "metadata": {
    "collapsed": true
   },
   "outputs": [],
   "source": [
    "def quick_plots(column):\n",
    "    norm = np.random.normal(0, 1, len(df))\n",
    "    norm.sort()\n",
    "    earnings_sorted = column.sort_values()\n",
    "    plt.figure(figsize = (20,5))\n",
    "    plt.subplot(1,2,1)\n",
    "    plt.plot(norm, column.sort_values(), \"o\")\n",
    "    plt.title('QQ Plot')\n",
    "    \n",
    "    plt.subplot(1,2,2)\n",
    "    plt.scatter(x=column, y=df['next_year_compensation'])\n",
    "    plt.title('Scatter Plot')\n",
    "    plt.ylabel('Current Compensation')\n",
    "    plt.xlabel('Column Name')\n",
    "    plt.show()"
   ]
  },
  {
   "cell_type": "code",
   "execution_count": 5,
   "metadata": {},
   "outputs": [
    {
     "data": {
      "image/png": "[encoded data removed]",
      "text/plain": [
       "<matplotlib.figure.Figure at 0x1038eb630>"
      ]
     },
     "metadata": {},
     "output_type": "display_data"
    }
   ],
   "source": [
    "quick_plots(df.current_compensation)"
   ]
  },
  {
   "cell_type": "code",
   "execution_count": 7,
   "metadata": {
    "collapsed": true
   },
   "outputs": [],
   "source": [
    "df = df[df['current_compensation'] <5000000]"
   ]
  },
  {
   "cell_type": "code",
   "execution_count": 8,
   "metadata": {
    "collapsed": true
   },
   "outputs": [],
   "source": [
    "df_train, df_test = train_test_split(df, test_size=0.2, random_state = 12)\n",
    "X_train = df_train.loc[:, ~(df_train.columns).isin(['next_year_compensation'])]\n",
    "Y_train = df_train['next_year_compensation']\n",
    "X_test = df_test.loc[:, ~(df_test.columns).isin(['next_year_compensation'])]\n",
    "Y_test = df_test['next_year_compensation']"
   ]
  },
  {
   "cell_type": "code",
   "execution_count": 9,
   "metadata": {
    "collapsed": true
   },
   "outputs": [],
   "source": [
    "linear = LinearRegression()\n",
    "ridge = Ridge()\n",
    "gbr = GradientBoostingRegressor()\n",
    "rfr = RandomForestRegressor()\n",
    "theilsan = TheilSenRegressor()\n",
    "ransac = RANSACRegressor()\n",
    "huber = HuberRegressor()"
   ]
  },
  {
   "cell_type": "code",
   "execution_count": 10,
   "metadata": {
    "collapsed": true
   },
   "outputs": [],
   "source": [
    "def get_metrics(model, dataframe):\n",
    "    x = dataframe.loc[:, ~(df_train.columns).isin(['next_year_compensation'])]\n",
    "    y = dataframe['next_year_compensation']\n",
    "    r2_scores = cross_val_score(model, x, y, cv=10)\n",
    "    r2 = r2_scores.mean()\n",
    "    mse_scores = cross_val_score(model,x,y, cv=10, scoring='neg_mean_squared_error')\n",
    "    mse = mse_scores.mean() * -1\n",
    "    rmse = np.sqrt(mse)\n",
    "    print(model)\n",
    "    print('R2 Score:', r2)\n",
    "    print('MSE:', mse)\n",
    "    print('RMSE:', rmse)"
   ]
  },
  {
   "cell_type": "code",
   "execution_count": 11,
   "metadata": {},
   "outputs": [
    {
     "name": "stdout",
     "output_type": "stream",
     "text": [
      "LinearRegression(copy_X=True, fit_intercept=True, n_jobs=1, normalize=False)\n",
      "R2 Score: 0.699170182854\n",
      "MSE: 3826941127.71\n",
      "RMSE: 61862.2754812\n"
     ]
    }
   ],
   "source": [
    "get_metrics(linear, df_train)"
   ]
  },
  {
   "cell_type": "code",
   "execution_count": 12,
   "metadata": {},
   "outputs": [
    {
     "name": "stdout",
     "output_type": "stream",
     "text": [
      "Ridge(alpha=1.0, copy_X=True, fit_intercept=True, max_iter=None,\n",
      "   normalize=False, random_state=None, solver='auto', tol=0.001)\n",
      "R2 Score: 0.700330754364\n",
      "MSE: 3813277739.53\n",
      "RMSE: 61751.7428056\n"
     ]
    }
   ],
   "source": [
    "get_metrics(ridge,df_train)"
   ]
  },
  {
   "cell_type": "code",
   "execution_count": 13,
   "metadata": {},
   "outputs": [
    {
     "name": "stdout",
     "output_type": "stream",
     "text": [
      "GradientBoostingRegressor(alpha=0.9, criterion='friedman_mse', init=None,\n",
      "             learning_rate=0.1, loss='ls', max_depth=3, max_features=None,\n",
      "             max_leaf_nodes=None, min_impurity_decrease=0.0,\n",
      "             min_impurity_split=None, min_samples_leaf=1,\n",
      "             min_samples_split=2, min_weight_fraction_leaf=0.0,\n",
      "             n_estimators=100, presort='auto', random_state=None,\n",
      "             subsample=1.0, verbose=0, warm_start=False)\n",
      "R2 Score: 0.684217692489\n",
      "MSE: 3959830717.25\n",
      "RMSE: 62927.1858361\n"
     ]
    }
   ],
   "source": [
    "get_metrics(gbr, df_train)"
   ]
  },
  {
   "cell_type": "code",
   "execution_count": 14,
   "metadata": {},
   "outputs": [
    {
     "name": "stdout",
     "output_type": "stream",
     "text": [
      "RandomForestRegressor(bootstrap=True, criterion='mse', max_depth=None,\n",
      "           max_features='auto', max_leaf_nodes=None,\n",
      "           min_impurity_decrease=0.0, min_impurity_split=None,\n",
      "           min_samples_leaf=1, min_samples_split=2,\n",
      "           min_weight_fraction_leaf=0.0, n_estimators=10, n_jobs=1,\n",
      "           oob_score=False, random_state=None, verbose=0, warm_start=False)\n",
      "R2 Score: 0.659887178846\n",
      "MSE: 4299453993.94\n",
      "RMSE: 65570.2218537\n"
     ]
    }
   ],
   "source": [
    "get_metrics(rfr, df_train)"
   ]
  },
  {
   "cell_type": "code",
   "execution_count": 15,
   "metadata": {},
   "outputs": [
    {
     "name": "stdout",
     "output_type": "stream",
     "text": [
      "HuberRegressor(alpha=0.0001, epsilon=1.35, fit_intercept=True, max_iter=100,\n",
      "        tol=1e-05, warm_start=False)\n",
      "R2 Score: 0.659785582952\n",
      "MSE: 4313050476.72\n",
      "RMSE: 65673.8188072\n"
     ]
    }
   ],
   "source": [
    "get_metrics(huber, df_train)"
   ]
  },
  {
   "cell_type": "code",
   "execution_count": 16,
   "metadata": {},
   "outputs": [
    {
     "name": "stdout",
     "output_type": "stream",
     "text": [
      "[  1.68612606e+03   1.21160801e+02   6.37095202e+03  -3.02350611e+03\n",
      "  -2.20773303e+03   6.46833947e+01   9.05886359e+01   4.92363966e+03\n",
      "   9.80925462e+02  -2.07353447e+03   8.37079160e+02   3.56837920e+03\n",
      "   8.22652561e-01  -1.70049897e+04   8.90084098e+03  -2.44241730e+03\n",
      "  -4.66732787e+03  -2.79650394e+03   2.66766894e+03  -2.25055899e+02\n",
      "  -3.25667342e+03   5.16853741e+03   1.49947495e+03  -2.23573496e+04\n",
      "   1.31731945e+04   3.43307240e+03  -1.78725144e+04  -4.51074164e+03\n",
      "  -1.34726056e+03  -4.20229683e+03   8.45421083e+03   2.41782504e+04\n",
      "  -3.21429572e+03  -7.45784929e+03   2.40453209e+03   4.67686219e+02\n",
      "  -1.14608040e+03   2.27148950e+04  -7.17509522e+03   6.61408808e+03\n",
      "  -6.63712183e+03  -1.32805304e+04   1.62720418e+04   1.96163541e+04\n",
      "  -4.78287507e+03  -2.33178176e+02  -5.58230992e+03  -1.58911605e+03\n",
      "  -1.04297941e+04  -4.59235303e+03  -9.85692893e+03   2.10958116e+04]\n",
      "-7156894.89505\n",
      "Index(['A', 'FC', 'G', 'GP', 'GS', 'MINS', 'OFF', 'R', 'SHTS', 'SOG', 'Y',\n",
      "       'season', 'current_compensation', 'club_ATL', 'club_CHI', 'club_CHV',\n",
      "       'club_CLB', 'club_COL', 'club_DAL', 'club_DC', 'club_HOU', 'club_KC',\n",
      "       'club_LA', 'club_LAFC', 'club_MLS', 'club_MNUFC', 'club_MTL', 'club_NE',\n",
      "       'club_NY', 'club_NYCFC', 'club_NYRB', 'club_ORL', 'club_PHI',\n",
      "       'club_POR', 'club_RSL', 'club_SEA', 'club_SJ', 'club_TFC', 'club_TOR',\n",
      "       'club_VAN', 'position_D', 'position_D-M', 'position_D/F',\n",
      "       'position_D/M', 'position_F', 'position_F-M', 'position_F/M',\n",
      "       'position_M', 'position_M-D', 'position_M-F', 'position_M/D',\n",
      "       'position_M/F'],\n",
      "      dtype='object')\n"
     ]
    }
   ],
   "source": [
    "ridge.fit(X_train,Y_train)\n",
    "print(ridge.coef_)\n",
    "print(ridge.intercept_)\n",
    "print(X_train.columns)"
   ]
  },
  {
   "cell_type": "code",
   "execution_count": 17,
   "metadata": {},
   "outputs": [
    {
     "name": "stdout",
     "output_type": "stream",
     "text": [
      "[  1.07225074e+03   4.91966136e+02   1.51055988e+04  -4.43441160e+03\n",
      "  -4.44546343e+03   9.65161868e+01  -2.03082375e+03   6.73051342e+03\n",
      "   5.58252600e+02  -6.53743728e+02  -1.87615312e+03   4.22275352e+03\n",
      "   9.46217034e-01  -1.71364732e+04  -2.07066809e+03  -1.60889028e+03\n",
      "  -3.89743663e+03  -8.74410428e+03  -7.08780311e+03  -6.82970113e+01\n",
      "  -4.72479906e+03   5.20950751e+03  -7.20854177e+03  -6.41456144e+04\n",
      "   3.04379357e+03   1.91435588e+03   4.16824486e+04  -1.33171833e+04\n",
      "   1.80172763e+02  -2.03297696e+03   1.14233288e+04   4.25308419e+04\n",
      "  -8.05925034e+03   2.64292188e+04  -4.61110138e+03  -9.49616565e+03\n",
      "  -5.54365481e+03   2.32743760e+04  -6.94470966e+03   1.10096260e+04\n",
      "   9.60602502e+03  -3.02486224e+03   5.38099561e+04  -1.71292889e+04\n",
      "  -3.41905981e+03  -3.51434249e+03  -5.83298955e+03   1.69393547e+04\n",
      "   2.73130797e+02  -4.39033021e+03   4.67945746e+04  -9.01121681e+04]\n",
      "-8493655.97401\n",
      "Index(['A', 'FC', 'G', 'GP', 'GS', 'MINS', 'OFF', 'R', 'SHTS', 'SOG', 'Y',\n",
      "       'season', 'current_compensation', 'club_ATL', 'club_CHI', 'club_CHV',\n",
      "       'club_CLB', 'club_COL', 'club_DAL', 'club_DC', 'club_HOU', 'club_KC',\n",
      "       'club_LA', 'club_LAFC', 'club_MLS', 'club_MNUFC', 'club_MTL', 'club_NE',\n",
      "       'club_NY', 'club_NYCFC', 'club_NYRB', 'club_ORL', 'club_PHI',\n",
      "       'club_POR', 'club_RSL', 'club_SEA', 'club_SJ', 'club_TFC', 'club_TOR',\n",
      "       'club_VAN', 'position_D', 'position_D-M', 'position_D/F',\n",
      "       'position_D/M', 'position_F', 'position_F-M', 'position_F/M',\n",
      "       'position_M', 'position_M-D', 'position_M-F', 'position_M/D',\n",
      "       'position_M/F'],\n",
      "      dtype='object')\n"
     ]
    }
   ],
   "source": [
    "linear.fit(X_train,Y_train)\n",
    "print(linear.coef_)\n",
    "print(linear.intercept_)\n",
    "print(X_train.columns)"
   ]
  },
  {
   "cell_type": "code",
   "execution_count": null,
   "metadata": {
    "collapsed": true
   },
   "outputs": [],
   "source": [
    "#Picking Linear Regression"
   ]
  }
 ],
 "metadata": {
  "kernelspec": {
   "display_name": "Python 3",
   "language": "python",
   "name": "python3"
  },
  "language_info": {
   "codemirror_mode": {
    "name": "ipython",
    "version": 3
   },
   "file_extension": ".py",
   "mimetype": "text/x-python",
   "name": "python",
   "nbconvert_exporter": "python",
   "pygments_lexer": "ipython3",
   "version": "3.6.3"
  }
 },
 "nbformat": 4,
 "nbformat_minor": 2
}
