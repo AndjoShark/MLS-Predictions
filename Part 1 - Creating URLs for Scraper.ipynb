{
 "cells": [
  {
   "cell_type": "code",
   "execution_count": 1,
   "metadata": {
    "collapsed": true
   },
   "outputs": [],
   "source": [
    "import pandas as pd\n",
    "import numpy as np\n",
    "import re"
   ]
  },
  {
   "cell_type": "code",
   "execution_count": 2,
   "metadata": {
    "collapsed": true
   },
   "outputs": [],
   "source": [
    "df = pd.read_csv('/Users/joshuarkarnad/Desktop/Thinkful/MLS Salary Prediction/Data/mls_salaries.csv')"
   ]
  },
  {
   "cell_type": "code",
   "execution_count": 3,
   "metadata": {},
   "outputs": [
    {
     "data": {
      "text/html": [
       "<div>\n",
       "<style>\n",
       "    .dataframe thead tr:only-child th {\n",
       "        text-align: right;\n",
       "    }\n",
       "\n",
       "    .dataframe thead th {\n",
       "        text-align: left;\n",
       "    }\n",
       "\n",
       "    .dataframe tbody tr th {\n",
       "        vertical-align: top;\n",
       "    }\n",
       "</style>\n",
       "<table border=\"1\" class=\"dataframe\">\n",
       "  <thead>\n",
       "    <tr style=\"text-align: right;\">\n",
       "      <th></th>\n",
       "      <th>0</th>\n",
       "      <th>1</th>\n",
       "      <th>2</th>\n",
       "      <th>3</th>\n",
       "      <th>4</th>\n",
       "    </tr>\n",
       "  </thead>\n",
       "  <tbody>\n",
       "    <tr>\n",
       "      <th>season</th>\n",
       "      <td>2018</td>\n",
       "      <td>2018</td>\n",
       "      <td>2018</td>\n",
       "      <td>2018</td>\n",
       "      <td>2018</td>\n",
       "    </tr>\n",
       "    <tr>\n",
       "      <th>club_grouped</th>\n",
       "      <td>TFC</td>\n",
       "      <td>TFC</td>\n",
       "      <td>LAFC</td>\n",
       "      <td>CHI</td>\n",
       "      <td>LAG</td>\n",
       "    </tr>\n",
       "    <tr>\n",
       "      <th>club</th>\n",
       "      <td>TOR</td>\n",
       "      <td>TOR</td>\n",
       "      <td>LAFC</td>\n",
       "      <td>CHI</td>\n",
       "      <td>LA</td>\n",
       "    </tr>\n",
       "    <tr>\n",
       "      <th>first_name</th>\n",
       "      <td>Sebastian</td>\n",
       "      <td>Michael</td>\n",
       "      <td>Carlos</td>\n",
       "      <td>Bastian</td>\n",
       "      <td>Giovani</td>\n",
       "    </tr>\n",
       "    <tr>\n",
       "      <th>last_name</th>\n",
       "      <td>Giovinco</td>\n",
       "      <td>Bradley</td>\n",
       "      <td>Vela</td>\n",
       "      <td>Schweinsteiger</td>\n",
       "      <td>dos Santos</td>\n",
       "    </tr>\n",
       "    <tr>\n",
       "      <th>position</th>\n",
       "      <td>F</td>\n",
       "      <td>M</td>\n",
       "      <td>F</td>\n",
       "      <td>M</td>\n",
       "      <td>F</td>\n",
       "    </tr>\n",
       "    <tr>\n",
       "      <th>total_compensation</th>\n",
       "      <td>$7,115,556</td>\n",
       "      <td>$6,500,000</td>\n",
       "      <td>$6,292,500</td>\n",
       "      <td>$6,100,000</td>\n",
       "      <td>$6,000,000</td>\n",
       "    </tr>\n",
       "    <tr>\n",
       "      <th>base_salary</th>\n",
       "      <td>$5,600,000</td>\n",
       "      <td>$6,000,000</td>\n",
       "      <td>$4,500,000</td>\n",
       "      <td>$6,100,000</td>\n",
       "      <td>$4,250,000</td>\n",
       "    </tr>\n",
       "  </tbody>\n",
       "</table>\n",
       "</div>"
      ],
      "text/plain": [
       "                              0            1            2               3  \\\n",
       "season                     2018         2018         2018            2018   \n",
       "club_grouped                TFC          TFC         LAFC             CHI   \n",
       "club                        TOR          TOR         LAFC             CHI   \n",
       "first_name            Sebastian      Michael       Carlos         Bastian   \n",
       "last_name              Giovinco      Bradley         Vela  Schweinsteiger   \n",
       "position                      F            M            F               M   \n",
       "total_compensation  $7,115,556   $6,500,000   $6,292,500      $6,100,000    \n",
       "base_salary         $5,600,000   $6,000,000   $4,500,000      $6,100,000    \n",
       "\n",
       "                              4  \n",
       "season                     2018  \n",
       "club_grouped                LAG  \n",
       "club                         LA  \n",
       "first_name              Giovani  \n",
       "last_name            dos Santos  \n",
       "position                      F  \n",
       "total_compensation  $6,000,000   \n",
       "base_salary         $4,250,000   "
      ]
     },
     "execution_count": 3,
     "metadata": {},
     "output_type": "execute_result"
    }
   ],
   "source": [
    "df.head().T"
   ]
  },
  {
   "cell_type": "code",
   "execution_count": 4,
   "metadata": {},
   "outputs": [
    {
     "data": {
      "text/plain": [
       "(6219, 8)"
      ]
     },
     "execution_count": 4,
     "metadata": {},
     "output_type": "execute_result"
    }
   ],
   "source": [
    "df.shape"
   ]
  },
  {
   "cell_type": "code",
   "execution_count": 5,
   "metadata": {},
   "outputs": [
    {
     "data": {
      "text/plain": [
       "(5550, 8)"
      ]
     },
     "execution_count": 5,
     "metadata": {},
     "output_type": "execute_result"
    }
   ],
   "source": [
    "#dropping Goal Keepers because stats are different\n",
    "df = df[df['position'] != 'GK']\n",
    "df.shape"
   ]
  },
  {
   "cell_type": "code",
   "execution_count": 6,
   "metadata": {
    "collapsed": true
   },
   "outputs": [],
   "source": [
    "import re\n",
    "def name_cleaner(name):\n",
    "    name = name.lower()\n",
    "    name = re.sub('\"[^\"]+\"', '', name)\n",
    "    name = re.sub(\"'[^']+'\", '', name)    \n",
    "    name = name.strip()\n",
    "    name = name.replace(' ','-')\n",
    "    return name"
   ]
  },
  {
   "cell_type": "code",
   "execution_count": 7,
   "metadata": {},
   "outputs": [
    {
     "data": {
      "text/html": [
       "<div>\n",
       "<style>\n",
       "    .dataframe thead tr:only-child th {\n",
       "        text-align: right;\n",
       "    }\n",
       "\n",
       "    .dataframe thead th {\n",
       "        text-align: left;\n",
       "    }\n",
       "\n",
       "    .dataframe tbody tr th {\n",
       "        vertical-align: top;\n",
       "    }\n",
       "</style>\n",
       "<table border=\"1\" class=\"dataframe\">\n",
       "  <thead>\n",
       "    <tr style=\"text-align: right;\">\n",
       "      <th></th>\n",
       "      <th>first_name_cleaned</th>\n",
       "      <th>last_name_cleaned</th>\n",
       "    </tr>\n",
       "  </thead>\n",
       "  <tbody>\n",
       "    <tr>\n",
       "      <th>0</th>\n",
       "      <td>sebastian</td>\n",
       "      <td>giovinco</td>\n",
       "    </tr>\n",
       "    <tr>\n",
       "      <th>1</th>\n",
       "      <td>michael</td>\n",
       "      <td>bradley</td>\n",
       "    </tr>\n",
       "    <tr>\n",
       "      <th>2</th>\n",
       "      <td>carlos</td>\n",
       "      <td>vela</td>\n",
       "    </tr>\n",
       "    <tr>\n",
       "      <th>3</th>\n",
       "      <td>bastian</td>\n",
       "      <td>schweinsteiger</td>\n",
       "    </tr>\n",
       "    <tr>\n",
       "      <th>4</th>\n",
       "      <td>giovani</td>\n",
       "      <td>dos-santos</td>\n",
       "    </tr>\n",
       "  </tbody>\n",
       "</table>\n",
       "</div>"
      ],
      "text/plain": [
       "  first_name_cleaned last_name_cleaned\n",
       "0          sebastian          giovinco\n",
       "1            michael           bradley\n",
       "2             carlos              vela\n",
       "3            bastian    schweinsteiger\n",
       "4            giovani        dos-santos"
      ]
     },
     "execution_count": 7,
     "metadata": {},
     "output_type": "execute_result"
    }
   ],
   "source": [
    "# cleaning names so I can use them for URLs ie get rid of ', \", -\n",
    "df = df.dropna()\n",
    "df[df['first_name'].str.contains(\" \")]\n",
    "df['first_name_cleaned'] = df['first_name'].map(name_cleaner)\n",
    "df['last_name_cleaned'] = df['last_name'].map(name_cleaner)\n",
    "df[['first_name_cleaned', 'last_name_cleaned']].head(5)"
   ]
  },
  {
   "cell_type": "code",
   "execution_count": 8,
   "metadata": {
    "collapsed": true
   },
   "outputs": [],
   "source": [
    "df['urls'] = 'https://www.mlssoccer.com/players/' + df['first_name_cleaned']+'-'+df['last_name_cleaned']\n",
    "urls = df[['urls', 'first_name', 'last_name']].drop_duplicates()"
   ]
  },
  {
   "cell_type": "code",
   "execution_count": 9,
   "metadata": {},
   "outputs": [
    {
     "data": {
      "text/plain": [
       "5524"
      ]
     },
     "execution_count": 9,
     "metadata": {},
     "output_type": "execute_result"
    }
   ],
   "source": [
    "len(df['urls'])"
   ]
  },
  {
   "cell_type": "code",
   "execution_count": 10,
   "metadata": {},
   "outputs": [
    {
     "data": {
      "text/plain": [
       "2044"
      ]
     },
     "execution_count": 10,
     "metadata": {},
     "output_type": "execute_result"
    }
   ],
   "source": [
    "len(urls)"
   ]
  },
  {
   "cell_type": "code",
   "execution_count": 11,
   "metadata": {
    "collapsed": true
   },
   "outputs": [],
   "source": [
    "urls.to_csv('Data/urls.csv', index = False)"
   ]
  },
  {
   "cell_type": "code",
   "execution_count": 12,
   "metadata": {
    "collapsed": true
   },
   "outputs": [],
   "source": [
    "df.to_csv('Data/salariesV1.csv', index = False)"
   ]
  },
  {
   "cell_type": "code",
   "execution_count": null,
   "metadata": {
    "collapsed": true
   },
   "outputs": [],
   "source": []
  }
 ],
 "metadata": {
  "kernelspec": {
   "display_name": "Python 3",
   "language": "python",
   "name": "python3"
  },
  "language_info": {
   "codemirror_mode": {
    "name": "ipython",
    "version": 3
   },
   "file_extension": ".py",
   "mimetype": "text/x-python",
   "name": "python",
   "nbconvert_exporter": "python",
   "pygments_lexer": "ipython3",
   "version": "3.6.3"
  }
 },
 "nbformat": 4,
 "nbformat_minor": 2
}
