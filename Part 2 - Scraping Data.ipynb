{
 "cells": [
  {
   "cell_type": "code",
   "execution_count": 1,
   "metadata": {},
   "outputs": [],
   "source": [
    "import pandas as pd\n",
    "import scrapy\n",
    "from scrapy.crawler import CrawlerProcess\n",
    "df = pd.read_csv('/Users/joshuarkarnad/Desktop/Thinkful/MLS Salary Prediction/Data/urls.csv')"
   ]
  },
  {
   "cell_type": "code",
   "execution_count": 2,
   "metadata": {},
   "outputs": [
    {
     "data": {
      "text/html": [
       "<div>\n",
       "<style>\n",
       "    .dataframe thead tr:only-child th {\n",
       "        text-align: right;\n",
       "    }\n",
       "\n",
       "    .dataframe thead th {\n",
       "        text-align: left;\n",
       "    }\n",
       "\n",
       "    .dataframe tbody tr th {\n",
       "        vertical-align: top;\n",
       "    }\n",
       "</style>\n",
       "<table border=\"1\" class=\"dataframe\">\n",
       "  <thead>\n",
       "    <tr style=\"text-align: right;\">\n",
       "      <th></th>\n",
       "      <th>urls</th>\n",
       "      <th>first_name</th>\n",
       "      <th>last_name</th>\n",
       "    </tr>\n",
       "  </thead>\n",
       "  <tbody>\n",
       "    <tr>\n",
       "      <th>0</th>\n",
       "      <td>https://www.mlssoccer.com/players/sebastian-gi...</td>\n",
       "      <td>Sebastian</td>\n",
       "      <td>Giovinco</td>\n",
       "    </tr>\n",
       "    <tr>\n",
       "      <th>1</th>\n",
       "      <td>https://www.mlssoccer.com/players/michael-bradley</td>\n",
       "      <td>Michael</td>\n",
       "      <td>Bradley</td>\n",
       "    </tr>\n",
       "    <tr>\n",
       "      <th>2</th>\n",
       "      <td>https://www.mlssoccer.com/players/carlos-vela</td>\n",
       "      <td>Carlos</td>\n",
       "      <td>Vela</td>\n",
       "    </tr>\n",
       "    <tr>\n",
       "      <th>3</th>\n",
       "      <td>https://www.mlssoccer.com/players/bastian-schw...</td>\n",
       "      <td>Bastian</td>\n",
       "      <td>Schweinsteiger</td>\n",
       "    </tr>\n",
       "    <tr>\n",
       "      <th>4</th>\n",
       "      <td>https://www.mlssoccer.com/players/giovani-dos-...</td>\n",
       "      <td>Giovani</td>\n",
       "      <td>dos Santos</td>\n",
       "    </tr>\n",
       "  </tbody>\n",
       "</table>\n",
       "</div>"
      ],
      "text/plain": [
       "                                                urls first_name  \\\n",
       "0  https://www.mlssoccer.com/players/sebastian-gi...  Sebastian   \n",
       "1  https://www.mlssoccer.com/players/michael-bradley    Michael   \n",
       "2      https://www.mlssoccer.com/players/carlos-vela     Carlos   \n",
       "3  https://www.mlssoccer.com/players/bastian-schw...    Bastian   \n",
       "4  https://www.mlssoccer.com/players/giovani-dos-...    Giovani   \n",
       "\n",
       "        last_name  \n",
       "0        Giovinco  \n",
       "1         Bradley  \n",
       "2            Vela  \n",
       "3  Schweinsteiger  \n",
       "4      dos Santos  "
      ]
     },
     "execution_count": 2,
     "metadata": {},
     "output_type": "execute_result"
    }
   ],
   "source": [
    "df.head()"
   ]
  },
  {
   "cell_type": "code",
   "execution_count": 3,
   "metadata": {
    "collapsed": true
   },
   "outputs": [],
   "source": [
    "urls = df['urls']"
   ]
  },
  {
   "cell_type": "code",
   "execution_count": 4,
   "metadata": {},
   "outputs": [
    {
     "name": "stdout",
     "output_type": "stream",
     "text": [
      "Success!\n"
     ]
    }
   ],
   "source": [
    "class MLS_Spider(scrapy.Spider):\n",
    "    # Naming the spider is important if you are running more than one spider of\n",
    "    # this class simultaneously.\n",
    "    name = \"MLSStats\"\n",
    "#     download_delay = 1.0\n",
    "    # URL(s) to start with.\n",
    "    start_urls = first10\n",
    "\n",
    "    # What to do with the URL.  Here, we tell it to download all the code and save\n",
    "    # it to the mainpage.html file\n",
    "    def parse(self, response):\n",
    "        \n",
    "        for stat in response.xpath('//tr[@class=\"odd\"]'):\n",
    "            yield {\n",
    "                'url': response.request.url,\n",
    "                'Year': stat.xpath('td[@data-title=\"Year\"]/text()').extract_first(),\n",
    "                'Club': stat.xpath('td[@data-title=\"Club\"]/text()').extract_first(),\n",
    "                'GP': stat.xpath('td[@data-title=\"GP\"]/text()').extract_first(),\n",
    "                'GS': stat.xpath('td[@data-title=\"GS\"]/text()').extract_first(),\n",
    "                'G': stat.xpath('td[@data-title=\"G\"]/text()').extract_first(),\n",
    "                'MINS': stat.xpath('td[@data-title=\"MINS\"]/text()').extract_first(),\n",
    "                'A': stat.xpath('td[@data-title=\"A\"]/text()').extract_first(),\n",
    "                'SHTS': stat.xpath('td[@data-title=\"SHTS\"]/text()').extract_first(),\n",
    "                'SOG': stat.xpath('td[@data-title=\"SOG\"]/text()').extract_first(),\n",
    "                'FC': stat.xpath('td[@data-title=\"FC\"]/text()').extract_first(),\n",
    "                'OFF': stat.xpath('td[@data-title=\"OFF\"]/text()').extract_first(),\n",
    "                'Y': stat.xpath('td[@data-title=\"Y\"]/text()').extract_first(),\n",
    "                'R': stat.xpath('td[@data-title=\"R\"]/text()').extract_first()\n",
    "            \n",
    "              }\n",
    "            \n",
    "        for stat in response.xpath('//tr[@class=\"even\"]'):\n",
    "            yield {\n",
    "                'url': response.request.url,\n",
    "                'Year': stat.xpath('td[@data-title=\"Year\"]/text()').extract_first(),\n",
    "                'Club': stat.xpath('td[@data-title=\"Club\"]/text()').extract_first(),\n",
    "                'GP': stat.xpath('td[@data-title=\"GP\"]/text()').extract_first(),\n",
    "                'GS': stat.xpath('td[@data-title=\"GS\"]/text()').extract_first(),\n",
    "                'G': stat.xpath('td[@data-title=\"G\"]/text()').extract_first(),\n",
    "                'MINS': stat.xpath('td[@data-title=\"MINS\"]/text()').extract_first(),\n",
    "                'A': stat.xpath('td[@data-title=\"A\"]/text()').extract_first(),\n",
    "                'SHTS': stat.xpath('td[@data-title=\"SHTS\"]/text()').extract_first(),\n",
    "                'SOG': stat.xpath('td[@data-title=\"SOG\"]/text()').extract_first(),\n",
    "                'FC': stat.xpath('td[@data-title=\"FC\"]/text()').extract_first(),\n",
    "                'OFF': stat.xpath('td[@data-title=\"OFF\"]/text()').extract_first(),\n",
    "                'Y': stat.xpath('td[@data-title=\"Y\"]/text()').extract_first(),\n",
    "                'R': stat.xpath('td[@data-title=\"R\"]/text()').extract_first()\n",
    "            \n",
    "              }\n",
    "\n",
    "\n",
    "        \n",
    "        \n",
    "            \n",
    "\n",
    "process = CrawlerProcess({\n",
    "    'FEED_FORMAT': 'json',         # Store data in JSON format.\n",
    "    'FEED_URI': 'MLS_stats.json',  # Name our storage file.\n",
    "    'LOG_ENABLED': False           # Turn off logging for now.\n",
    "})\n",
    "\n",
    "# Start the crawler with our spider.\n",
    "process.crawl(MLS_Spider)\n",
    "process.start()\n",
    "print('Success!')"
   ]
  },
  {
   "cell_type": "code",
   "execution_count": null,
   "metadata": {
    "collapsed": true
   },
   "outputs": [],
   "source": []
  }
 ],
 "metadata": {
  "kernelspec": {
   "display_name": "Python 3",
   "language": "python",
   "name": "python3"
  },
  "language_info": {
   "codemirror_mode": {
    "name": "ipython",
    "version": 3
   },
   "file_extension": ".py",
   "mimetype": "text/x-python",
   "name": "python",
   "nbconvert_exporter": "python",
   "pygments_lexer": "ipython3",
   "version": "3.6.3"
  }
 },
 "nbformat": 4,
 "nbformat_minor": 2
}
