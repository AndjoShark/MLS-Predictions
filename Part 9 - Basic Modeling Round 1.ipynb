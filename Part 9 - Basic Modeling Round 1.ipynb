{
 "cells": [
  {
   "cell_type": "code",
   "execution_count": 1,
   "metadata": {
    "collapsed": true
   },
   "outputs": [],
   "source": [
    "import pandas as pd\n",
    "import numpy as np\n",
    "from matplotlib import pyplot as plt\n",
    "import seaborn as sns\n",
    "from sklearn.linear_model import Ridge\n",
    "from sklearn.linear_model import Lasso\n",
    "from sklearn.linear_model import LinearRegression\n",
    "from sklearn.neighbors import KNeighborsRegressor\n",
    "from sklearn.ensemble import RandomForestRegressor\n",
    "from sklearn.ensemble import GradientBoostingRegressor\n",
    "from sklearn.model_selection import cross_val_score\n",
    "from sklearn.model_selection import GridSearchCV\n",
    "from sklearn.model_selection import train_test_split\n",
    "from sklearn.model_selection import KFold\n",
    "from sklearn.model_selection import cross_val_predict\n",
    "from sklearn.metrics import make_scorer\n",
    "from sklearn.metrics import mean_squared_error\n",
    "from sklearn.metrics import r2_score\n",
    "from sklearn.svm import SVR\n",
    "from sklearn.linear_model import TheilSenRegressor, RANSACRegressor, HuberRegressor\n",
    "\n",
    "df = pd.read_csv('modelingdf.csv')\n",
    "df = df.drop('Unnamed: 0', axis =1)"
   ]
  },
  {
   "cell_type": "code",
   "execution_count": 2,
   "metadata": {},
   "outputs": [
    {
     "data": {
      "text/html": [
       "<div>\n",
       "<style>\n",
       "    .dataframe thead tr:only-child th {\n",
       "        text-align: right;\n",
       "    }\n",
       "\n",
       "    .dataframe thead th {\n",
       "        text-align: left;\n",
       "    }\n",
       "\n",
       "    .dataframe tbody tr th {\n",
       "        vertical-align: top;\n",
       "    }\n",
       "</style>\n",
       "<table border=\"1\" class=\"dataframe\">\n",
       "  <thead>\n",
       "    <tr style=\"text-align: right;\">\n",
       "      <th></th>\n",
       "      <th>A</th>\n",
       "      <th>FC</th>\n",
       "      <th>G</th>\n",
       "      <th>GP</th>\n",
       "      <th>GS</th>\n",
       "      <th>MINS</th>\n",
       "      <th>OFF</th>\n",
       "      <th>R</th>\n",
       "      <th>SHTS</th>\n",
       "      <th>SOG</th>\n",
       "      <th>Y</th>\n",
       "      <th>season</th>\n",
       "      <th>club</th>\n",
       "      <th>position</th>\n",
       "      <th>next_year_compensation</th>\n",
       "      <th>name</th>\n",
       "      <th>current_compensation</th>\n",
       "    </tr>\n",
       "  </thead>\n",
       "  <tbody>\n",
       "    <tr>\n",
       "      <th>0</th>\n",
       "      <td>0.0</td>\n",
       "      <td>7.0</td>\n",
       "      <td>0.0</td>\n",
       "      <td>8.0</td>\n",
       "      <td>5.0</td>\n",
       "      <td>460.0</td>\n",
       "      <td>3.0</td>\n",
       "      <td>0.0</td>\n",
       "      <td>8.0</td>\n",
       "      <td>3.0</td>\n",
       "      <td>0.0</td>\n",
       "      <td>2007</td>\n",
       "      <td>CLB</td>\n",
       "      <td>M</td>\n",
       "      <td>12900</td>\n",
       "      <td>brian plotkin</td>\n",
       "      <td>30000</td>\n",
       "    </tr>\n",
       "    <tr>\n",
       "      <th>1</th>\n",
       "      <td>4.0</td>\n",
       "      <td>28.0</td>\n",
       "      <td>3.0</td>\n",
       "      <td>30.0</td>\n",
       "      <td>11.0</td>\n",
       "      <td>1241.0</td>\n",
       "      <td>4.0</td>\n",
       "      <td>0.0</td>\n",
       "      <td>38.0</td>\n",
       "      <td>16.0</td>\n",
       "      <td>5.0</td>\n",
       "      <td>2007</td>\n",
       "      <td>CHI</td>\n",
       "      <td>F</td>\n",
       "      <td>63100</td>\n",
       "      <td>calen carr</td>\n",
       "      <td>50500</td>\n",
       "    </tr>\n",
       "    <tr>\n",
       "      <th>2</th>\n",
       "      <td>2.0</td>\n",
       "      <td>21.0</td>\n",
       "      <td>8.0</td>\n",
       "      <td>33.0</td>\n",
       "      <td>28.0</td>\n",
       "      <td>2181.0</td>\n",
       "      <td>37.0</td>\n",
       "      <td>0.0</td>\n",
       "      <td>65.0</td>\n",
       "      <td>41.0</td>\n",
       "      <td>3.0</td>\n",
       "      <td>2007</td>\n",
       "      <td>TFC</td>\n",
       "      <td>F</td>\n",
       "      <td>61273</td>\n",
       "      <td>chad barrett</td>\n",
       "      <td>48713</td>\n",
       "    </tr>\n",
       "    <tr>\n",
       "      <th>3</th>\n",
       "      <td>3.0</td>\n",
       "      <td>15.0</td>\n",
       "      <td>8.0</td>\n",
       "      <td>22.0</td>\n",
       "      <td>21.0</td>\n",
       "      <td>1721.0</td>\n",
       "      <td>5.0</td>\n",
       "      <td>0.0</td>\n",
       "      <td>44.0</td>\n",
       "      <td>22.0</td>\n",
       "      <td>1.0</td>\n",
       "      <td>2007</td>\n",
       "      <td>CHI</td>\n",
       "      <td>F</td>\n",
       "      <td>86075</td>\n",
       "      <td>chris rolfe</td>\n",
       "      <td>74700</td>\n",
       "    </tr>\n",
       "    <tr>\n",
       "      <th>4</th>\n",
       "      <td>0.0</td>\n",
       "      <td>43.0</td>\n",
       "      <td>1.0</td>\n",
       "      <td>26.0</td>\n",
       "      <td>24.0</td>\n",
       "      <td>2044.0</td>\n",
       "      <td>2.0</td>\n",
       "      <td>0.0</td>\n",
       "      <td>11.0</td>\n",
       "      <td>3.0</td>\n",
       "      <td>4.0</td>\n",
       "      <td>2007</td>\n",
       "      <td>CHI</td>\n",
       "      <td>D</td>\n",
       "      <td>44625</td>\n",
       "      <td>dasan robinson</td>\n",
       "      <td>42500</td>\n",
       "    </tr>\n",
       "  </tbody>\n",
       "</table>\n",
       "</div>"
      ],
      "text/plain": [
       "     A    FC    G    GP    GS    MINS   OFF    R  SHTS   SOG    Y  season  \\\n",
       "0  0.0   7.0  0.0   8.0   5.0   460.0   3.0  0.0   8.0   3.0  0.0    2007   \n",
       "1  4.0  28.0  3.0  30.0  11.0  1241.0   4.0  0.0  38.0  16.0  5.0    2007   \n",
       "2  2.0  21.0  8.0  33.0  28.0  2181.0  37.0  0.0  65.0  41.0  3.0    2007   \n",
       "3  3.0  15.0  8.0  22.0  21.0  1721.0   5.0  0.0  44.0  22.0  1.0    2007   \n",
       "4  0.0  43.0  1.0  26.0  24.0  2044.0   2.0  0.0  11.0   3.0  4.0    2007   \n",
       "\n",
       "  club position  next_year_compensation            name  current_compensation  \n",
       "0  CLB        M                   12900   brian plotkin                 30000  \n",
       "1  CHI        F                   63100      calen carr                 50500  \n",
       "2  TFC        F                   61273    chad barrett                 48713  \n",
       "3  CHI        F                   86075     chris rolfe                 74700  \n",
       "4  CHI        D                   44625  dasan robinson                 42500  "
      ]
     },
     "execution_count": 2,
     "metadata": {},
     "output_type": "execute_result"
    }
   ],
   "source": [
    "df.head()"
   ]
  },
  {
   "cell_type": "code",
   "execution_count": 3,
   "metadata": {
    "collapsed": true
   },
   "outputs": [],
   "source": [
    "df = df.drop('name', axis=1)"
   ]
  },
  {
   "cell_type": "code",
   "execution_count": 4,
   "metadata": {
    "collapsed": true
   },
   "outputs": [],
   "source": [
    "df = pd.get_dummies(df)"
   ]
  },
  {
   "cell_type": "code",
   "execution_count": 5,
   "metadata": {},
   "outputs": [
    {
     "data": {
      "text/plain": [
       "(2360, 53)"
      ]
     },
     "execution_count": 5,
     "metadata": {},
     "output_type": "execute_result"
    }
   ],
   "source": [
    "df.shape"
   ]
  },
  {
   "cell_type": "code",
   "execution_count": 6,
   "metadata": {
    "collapsed": true
   },
   "outputs": [],
   "source": [
    "df_train, df_test = train_test_split(df, test_size=0.2, random_state = 12)\n",
    "X_train = df_train.loc[:, ~(df_train.columns).isin(['next_year_compensation'])]\n",
    "Y_train = df_train['next_year_compensation']\n",
    "X_test = df_test.loc[:, ~(df_test.columns).isin(['next_year_compensation'])]\n",
    "Y_test = df_test['next_year_compensation']"
   ]
  },
  {
   "cell_type": "code",
   "execution_count": 7,
   "metadata": {
    "collapsed": true
   },
   "outputs": [],
   "source": [
    "linear = LinearRegression()\n",
    "ridge = Ridge()\n",
    "gbr = GradientBoostingRegressor()\n",
    "rfr = RandomForestRegressor()\n",
    "theilsan = TheilSenRegressor()\n",
    "ransac = RANSACRegressor()\n",
    "huber = HuberRegressor()\n",
    "svr = SVR()"
   ]
  },
  {
   "cell_type": "code",
   "execution_count": 8,
   "metadata": {},
   "outputs": [
    {
     "data": {
      "text/plain": [
       "count    2.360000e+03\n",
       "mean     2.639321e+05\n",
       "std      6.329589e+05\n",
       "min      1.290000e+04\n",
       "25%      7.857075e+04\n",
       "50%      1.330625e+05\n",
       "75%      2.178958e+05\n",
       "max      7.115556e+06\n",
       "Name: next_year_compensation, dtype: float64"
      ]
     },
     "execution_count": 8,
     "metadata": {},
     "output_type": "execute_result"
    }
   ],
   "source": [
    "df.next_year_compensation.describe()"
   ]
  },
  {
   "cell_type": "code",
   "execution_count": 9,
   "metadata": {
    "collapsed": true
   },
   "outputs": [],
   "source": [
    "def get_metrics(model, dataframe):\n",
    "    x = dataframe.loc[:, ~(df_train.columns).isin(['next_year_compensation'])]\n",
    "    y = dataframe['next_year_compensation']\n",
    "    r2_scores = cross_val_score(model, x, y, cv=10)\n",
    "    r2 = r2_scores.mean()\n",
    "    mse_scores = cross_val_score(model,x,y, cv=10, scoring='neg_mean_squared_error')\n",
    "    mse = mse_scores.mean() * -1\n",
    "    rmse = np.sqrt(mse)\n",
    "    print(model)\n",
    "    print('R2 Score:', r2)\n",
    "    print('MSE:', mse)\n",
    "    print('RMSE:', rmse)"
   ]
  },
  {
   "cell_type": "code",
   "execution_count": 10,
   "metadata": {},
   "outputs": [
    {
     "name": "stdout",
     "output_type": "stream",
     "text": [
      "LinearRegression(copy_X=True, fit_intercept=True, n_jobs=1, normalize=False)\n",
      "R2 Score: 0.937715865588\n",
      "MSE: 22778870790.8\n",
      "RMSE: 150926.706685\n"
     ]
    }
   ],
   "source": [
    "get_metrics(linear, df_train)"
   ]
  },
  {
   "cell_type": "code",
   "execution_count": 11,
   "metadata": {},
   "outputs": [
    {
     "name": "stdout",
     "output_type": "stream",
     "text": [
      "Ridge(alpha=1.0, copy_X=True, fit_intercept=True, max_iter=None,\n",
      "   normalize=False, random_state=None, solver='auto', tol=0.001)\n",
      "R2 Score: 0.937773128924\n",
      "MSE: 22761277850.3\n",
      "RMSE: 150868.412368\n"
     ]
    }
   ],
   "source": [
    "get_metrics(ridge,df_train)"
   ]
  },
  {
   "cell_type": "code",
   "execution_count": 12,
   "metadata": {},
   "outputs": [
    {
     "name": "stdout",
     "output_type": "stream",
     "text": [
      "GradientBoostingRegressor(alpha=0.9, criterion='friedman_mse', init=None,\n",
      "             learning_rate=0.1, loss='ls', max_depth=3, max_features=None,\n",
      "             max_leaf_nodes=None, min_impurity_decrease=0.0,\n",
      "             min_impurity_split=None, min_samples_leaf=1,\n",
      "             min_samples_split=2, min_weight_fraction_leaf=0.0,\n",
      "             n_estimators=100, presort='auto', random_state=None,\n",
      "             subsample=1.0, verbose=0, warm_start=False)\n",
      "R2 Score: 0.920950775352\n",
      "MSE: 30293261139.4\n",
      "RMSE: 174049.593908\n"
     ]
    }
   ],
   "source": [
    "get_metrics(gbr, df_train)"
   ]
  },
  {
   "cell_type": "code",
   "execution_count": 13,
   "metadata": {},
   "outputs": [
    {
     "name": "stdout",
     "output_type": "stream",
     "text": [
      "RandomForestRegressor(bootstrap=True, criterion='mse', max_depth=None,\n",
      "           max_features='auto', max_leaf_nodes=None,\n",
      "           min_impurity_decrease=0.0, min_impurity_split=None,\n",
      "           min_samples_leaf=1, min_samples_split=2,\n",
      "           min_weight_fraction_leaf=0.0, n_estimators=10, n_jobs=1,\n",
      "           oob_score=False, random_state=None, verbose=0, warm_start=False)\n",
      "R2 Score: 0.903501156231\n",
      "MSE: 28483950113.6\n",
      "RMSE: 168771.887806\n"
     ]
    }
   ],
   "source": [
    "get_metrics(rfr, df_train)"
   ]
  },
  {
   "cell_type": "code",
   "execution_count": 14,
   "metadata": {},
   "outputs": [
    {
     "name": "stdout",
     "output_type": "stream",
     "text": [
      "TheilSenRegressor(copy_X=True, fit_intercept=True, max_iter=300,\n",
      "         max_subpopulation=10000, n_jobs=1, n_subsamples=None,\n",
      "         random_state=None, tol=0.001, verbose=False)\n",
      "R2 Score: 0.918140394145\n",
      "MSE: 30518972359.8\n",
      "RMSE: 174696.801229\n"
     ]
    }
   ],
   "source": [
    "get_metrics(theilsan, df_train)"
   ]
  },
  {
   "cell_type": "code",
   "execution_count": 15,
   "metadata": {},
   "outputs": [
    {
     "name": "stdout",
     "output_type": "stream",
     "text": [
      "RANSACRegressor(base_estimator=None, is_data_valid=None, is_model_valid=None,\n",
      "        loss='absolute_loss', max_skips=inf, max_trials=100,\n",
      "        min_samples=None, random_state=None, residual_metric=None,\n",
      "        residual_threshold=None, stop_n_inliers=inf, stop_probability=0.99,\n",
      "        stop_score=inf)\n",
      "R2 Score: 0.937498215048\n",
      "MSE: 24527745135.6\n",
      "RMSE: 156613.361932\n"
     ]
    }
   ],
   "source": [
    "get_metrics(ransac, df_train)"
   ]
  },
  {
   "cell_type": "code",
   "execution_count": 16,
   "metadata": {},
   "outputs": [
    {
     "name": "stdout",
     "output_type": "stream",
     "text": [
      "HuberRegressor(alpha=0.0001, epsilon=1.35, fit_intercept=True, max_iter=100,\n",
      "        tol=1e-05, warm_start=False)\n",
      "R2 Score: 0.937975901406\n",
      "MSE: 23502839724.0\n",
      "RMSE: 153306.359046\n"
     ]
    }
   ],
   "source": [
    "get_metrics(huber, df_train)"
   ]
  },
  {
   "cell_type": "code",
   "execution_count": 17,
   "metadata": {},
   "outputs": [
    {
     "name": "stdout",
     "output_type": "stream",
     "text": [
      "SVR(C=1.0, cache_size=200, coef0=0.0, degree=3, epsilon=0.1, gamma='auto',\n",
      "  kernel='rbf', max_iter=-1, shrinking=True, tol=0.001, verbose=False)\n",
      "R2 Score: -0.0429988568355\n",
      "MSE: 395386159749.0\n",
      "RMSE: 628797.391653\n"
     ]
    }
   ],
   "source": [
    "get_metrics(svr, df_train)"
   ]
  },
  {
   "cell_type": "code",
   "execution_count": 18,
   "metadata": {
    "collapsed": true
   },
   "outputs": [],
   "source": [
    "# Best Scores - Huber, Linear, Ransac, and Ridge\n",
    "# Dropping svr due to scores"
   ]
  },
  {
   "cell_type": "code",
   "execution_count": 19,
   "metadata": {},
   "outputs": [
    {
     "data": {
      "image/png": "[encoded data removed]",
      "text/plain": [
       "<matplotlib.figure.Figure at 0x1a0e19b128>"
      ]
     },
     "metadata": {},
     "output_type": "display_data"
    }
   ],
   "source": [
    "rfr.fit(X_train, Y_train)\n",
    "\n",
    "feature_importance = rfr.feature_importances_\n",
    "feature_importance = 100.0 * (feature_importance / feature_importance.max())\n",
    "sorted_idx = np.argsort(feature_importance)[::-1]\n",
    "pos = np.arange(sorted_idx.shape[0]) + .5\n",
    "plt.subplot(1, 2, 2)\n",
    "plt.barh(pos[0:15], feature_importance[sorted_idx[0:15]], align='center')\n",
    "plt.yticks(pos[0:15], X_train.columns[sorted_idx[0:15]])\n",
    "plt.xlabel('Relative Importance')\n",
    "plt.title('Variable Importance Random Forest')\n",
    "plt.show()"
   ]
  },
  {
   "cell_type": "code",
   "execution_count": 21,
   "metadata": {},
   "outputs": [
    {
     "name": "stdout",
     "output_type": "stream",
     "text": [
      "[  1.83350308e+01   4.57191366e+01   3.00488095e+01  -1.22559541e+01\n",
      "   6.36366291e-01   5.22799343e+00   3.57859925e+01   5.69857460e-01\n",
      "   1.75118907e+02   7.61608081e+01  -1.02837208e+00   1.26755106e+00\n",
      "   9.95132138e-01  -9.20124606e-02   7.72988794e-03  -3.85326045e-02\n",
      "  -5.85679859e-01  -3.93978839e-01   1.69226042e-01  -1.48418243e-02\n",
      "   1.52478058e-02   6.26304279e-01  -4.00762210e-01  -1.00849568e-01\n",
      "   8.10974412e-02   2.80400915e-01  -1.10287509e-01  -7.00958816e-01\n",
      "   2.71772589e-01   5.58970985e-02   1.26798268e-01   1.18136648e-01\n",
      "   4.37417663e-02  -3.30335191e-02   5.96213433e-01  -5.39584458e-01\n",
      "  -1.95628175e-01   1.24222757e-01   1.57022139e-01   5.21286093e-01\n",
      "  -2.51854139e+00  -1.24499292e-01   7.92944075e-02   6.58920023e-03\n",
      "   1.30654905e+00   3.54097852e-01   8.19835556e-02   7.83354124e-01\n",
      "  -1.16405391e-01   1.16994305e-01  -2.58821923e-02   4.54059844e-02]\n",
      "0.0995637699573\n",
      "Index(['A', 'FC', 'G', 'GP', 'GS', 'MINS', 'OFF', 'R', 'SHTS', 'SOG', 'Y',\n",
      "       'season', 'current_compensation', 'club_ATL', 'club_CHI', 'club_CHV',\n",
      "       'club_CLB', 'club_COL', 'club_DAL', 'club_DC', 'club_HOU', 'club_KC',\n",
      "       'club_LA', 'club_LAFC', 'club_MLS', 'club_MNUFC', 'club_MTL', 'club_NE',\n",
      "       'club_NY', 'club_NYCFC', 'club_NYRB', 'club_ORL', 'club_PHI',\n",
      "       'club_POR', 'club_RSL', 'club_SEA', 'club_SJ', 'club_TFC', 'club_TOR',\n",
      "       'club_VAN', 'position_D', 'position_D-M', 'position_D/F',\n",
      "       'position_D/M', 'position_F', 'position_F-M', 'position_F/M',\n",
      "       'position_M', 'position_M-D', 'position_M-F', 'position_M/D',\n",
      "       'position_M/F'],\n",
      "      dtype='object')\n"
     ]
    }
   ],
   "source": [
    "huber.fit(X_train,Y_train)\n",
    "print(huber.coef_)\n",
    "print(huber.intercept_)\n",
    "print(X_train.columns)"
   ]
  },
  {
   "cell_type": "code",
   "execution_count": null,
   "metadata": {
    "collapsed": true
   },
   "outputs": [],
   "source": []
  }
 ],
 "metadata": {
  "kernelspec": {
   "display_name": "Python 3",
   "language": "python",
   "name": "python3"
  },
  "language_info": {
   "codemirror_mode": {
    "name": "ipython",
    "version": 3
   },
   "file_extension": ".py",
   "mimetype": "text/x-python",
   "name": "python",
   "nbconvert_exporter": "python",
   "pygments_lexer": "ipython3",
   "version": "3.6.3"
  }
 },
 "nbformat": 4,
 "nbformat_minor": 2
}
