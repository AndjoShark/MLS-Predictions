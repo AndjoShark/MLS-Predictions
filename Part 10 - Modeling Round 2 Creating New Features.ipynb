{
 "cells": [
  {
   "cell_type": "code",
   "execution_count": 1,
   "metadata": {
    "collapsed": true
   },
   "outputs": [],
   "source": [
    "import pandas as pd\n",
    "import numpy as np\n",
    "from matplotlib import pyplot as plt\n",
    "import seaborn as sns\n",
    "from sklearn.linear_model import Ridge\n",
    "from sklearn.linear_model import Lasso\n",
    "from sklearn.linear_model import LinearRegression\n",
    "from sklearn.neighbors import KNeighborsRegressor\n",
    "from sklearn.ensemble import RandomForestRegressor\n",
    "from sklearn.ensemble import GradientBoostingRegressor\n",
    "from sklearn.model_selection import cross_val_score\n",
    "from sklearn.model_selection import GridSearchCV\n",
    "from sklearn.model_selection import train_test_split\n",
    "from sklearn.model_selection import KFold\n",
    "from sklearn.model_selection import cross_val_predict\n",
    "from sklearn.metrics import make_scorer\n",
    "from sklearn.metrics import mean_squared_error\n",
    "from sklearn.metrics import r2_score\n",
    "from sklearn.svm import SVR\n",
    "from sklearn.linear_model import TheilSenRegressor, RANSACRegressor, HuberRegressor\n",
    "\n",
    "df = pd.read_csv('modelingdf.csv')\n",
    "df = df.drop('Unnamed: 0', axis =1)"
   ]
  },
  {
   "cell_type": "code",
   "execution_count": 2,
   "metadata": {},
   "outputs": [
    {
     "data": {
      "text/html": [
       "<div>\n",
       "<style>\n",
       "    .dataframe thead tr:only-child th {\n",
       "        text-align: right;\n",
       "    }\n",
       "\n",
       "    .dataframe thead th {\n",
       "        text-align: left;\n",
       "    }\n",
       "\n",
       "    .dataframe tbody tr th {\n",
       "        vertical-align: top;\n",
       "    }\n",
       "</style>\n",
       "<table border=\"1\" class=\"dataframe\">\n",
       "  <thead>\n",
       "    <tr style=\"text-align: right;\">\n",
       "      <th></th>\n",
       "      <th>A</th>\n",
       "      <th>FC</th>\n",
       "      <th>G</th>\n",
       "      <th>GP</th>\n",
       "      <th>GS</th>\n",
       "      <th>MINS</th>\n",
       "      <th>OFF</th>\n",
       "      <th>R</th>\n",
       "      <th>SHTS</th>\n",
       "      <th>SOG</th>\n",
       "      <th>Y</th>\n",
       "      <th>season</th>\n",
       "      <th>club</th>\n",
       "      <th>position</th>\n",
       "      <th>next_year_compensation</th>\n",
       "      <th>name</th>\n",
       "      <th>current_compensation</th>\n",
       "    </tr>\n",
       "  </thead>\n",
       "  <tbody>\n",
       "    <tr>\n",
       "      <th>0</th>\n",
       "      <td>0.0</td>\n",
       "      <td>7.0</td>\n",
       "      <td>0.0</td>\n",
       "      <td>8.0</td>\n",
       "      <td>5.0</td>\n",
       "      <td>460.0</td>\n",
       "      <td>3.0</td>\n",
       "      <td>0.0</td>\n",
       "      <td>8.0</td>\n",
       "      <td>3.0</td>\n",
       "      <td>0.0</td>\n",
       "      <td>2007</td>\n",
       "      <td>CLB</td>\n",
       "      <td>M</td>\n",
       "      <td>12900</td>\n",
       "      <td>brian plotkin</td>\n",
       "      <td>30000</td>\n",
       "    </tr>\n",
       "    <tr>\n",
       "      <th>1</th>\n",
       "      <td>4.0</td>\n",
       "      <td>28.0</td>\n",
       "      <td>3.0</td>\n",
       "      <td>30.0</td>\n",
       "      <td>11.0</td>\n",
       "      <td>1241.0</td>\n",
       "      <td>4.0</td>\n",
       "      <td>0.0</td>\n",
       "      <td>38.0</td>\n",
       "      <td>16.0</td>\n",
       "      <td>5.0</td>\n",
       "      <td>2007</td>\n",
       "      <td>CHI</td>\n",
       "      <td>F</td>\n",
       "      <td>63100</td>\n",
       "      <td>calen carr</td>\n",
       "      <td>50500</td>\n",
       "    </tr>\n",
       "    <tr>\n",
       "      <th>2</th>\n",
       "      <td>2.0</td>\n",
       "      <td>21.0</td>\n",
       "      <td>8.0</td>\n",
       "      <td>33.0</td>\n",
       "      <td>28.0</td>\n",
       "      <td>2181.0</td>\n",
       "      <td>37.0</td>\n",
       "      <td>0.0</td>\n",
       "      <td>65.0</td>\n",
       "      <td>41.0</td>\n",
       "      <td>3.0</td>\n",
       "      <td>2007</td>\n",
       "      <td>TFC</td>\n",
       "      <td>F</td>\n",
       "      <td>61273</td>\n",
       "      <td>chad barrett</td>\n",
       "      <td>48713</td>\n",
       "    </tr>\n",
       "    <tr>\n",
       "      <th>3</th>\n",
       "      <td>3.0</td>\n",
       "      <td>15.0</td>\n",
       "      <td>8.0</td>\n",
       "      <td>22.0</td>\n",
       "      <td>21.0</td>\n",
       "      <td>1721.0</td>\n",
       "      <td>5.0</td>\n",
       "      <td>0.0</td>\n",
       "      <td>44.0</td>\n",
       "      <td>22.0</td>\n",
       "      <td>1.0</td>\n",
       "      <td>2007</td>\n",
       "      <td>CHI</td>\n",
       "      <td>F</td>\n",
       "      <td>86075</td>\n",
       "      <td>chris rolfe</td>\n",
       "      <td>74700</td>\n",
       "    </tr>\n",
       "    <tr>\n",
       "      <th>4</th>\n",
       "      <td>0.0</td>\n",
       "      <td>43.0</td>\n",
       "      <td>1.0</td>\n",
       "      <td>26.0</td>\n",
       "      <td>24.0</td>\n",
       "      <td>2044.0</td>\n",
       "      <td>2.0</td>\n",
       "      <td>0.0</td>\n",
       "      <td>11.0</td>\n",
       "      <td>3.0</td>\n",
       "      <td>4.0</td>\n",
       "      <td>2007</td>\n",
       "      <td>CHI</td>\n",
       "      <td>D</td>\n",
       "      <td>44625</td>\n",
       "      <td>dasan robinson</td>\n",
       "      <td>42500</td>\n",
       "    </tr>\n",
       "  </tbody>\n",
       "</table>\n",
       "</div>"
      ],
      "text/plain": [
       "     A    FC    G    GP    GS    MINS   OFF    R  SHTS   SOG    Y  season  \\\n",
       "0  0.0   7.0  0.0   8.0   5.0   460.0   3.0  0.0   8.0   3.0  0.0    2007   \n",
       "1  4.0  28.0  3.0  30.0  11.0  1241.0   4.0  0.0  38.0  16.0  5.0    2007   \n",
       "2  2.0  21.0  8.0  33.0  28.0  2181.0  37.0  0.0  65.0  41.0  3.0    2007   \n",
       "3  3.0  15.0  8.0  22.0  21.0  1721.0   5.0  0.0  44.0  22.0  1.0    2007   \n",
       "4  0.0  43.0  1.0  26.0  24.0  2044.0   2.0  0.0  11.0   3.0  4.0    2007   \n",
       "\n",
       "  club position  next_year_compensation            name  current_compensation  \n",
       "0  CLB        M                   12900   brian plotkin                 30000  \n",
       "1  CHI        F                   63100      calen carr                 50500  \n",
       "2  TFC        F                   61273    chad barrett                 48713  \n",
       "3  CHI        F                   86075     chris rolfe                 74700  \n",
       "4  CHI        D                   44625  dasan robinson                 42500  "
      ]
     },
     "execution_count": 2,
     "metadata": {},
     "output_type": "execute_result"
    }
   ],
   "source": [
    "df.head()"
   ]
  },
  {
   "cell_type": "code",
   "execution_count": 3,
   "metadata": {},
   "outputs": [
    {
     "data": {
      "text/plain": [
       "(2360, 53)"
      ]
     },
     "execution_count": 3,
     "metadata": {},
     "output_type": "execute_result"
    }
   ],
   "source": [
    "df = df.drop('name', axis=1)\n",
    "df = pd.get_dummies(df)\n",
    "df.shape"
   ]
  },
  {
   "cell_type": "code",
   "execution_count": 4,
   "metadata": {},
   "outputs": [
    {
     "data": {
      "image/png": "[encoded data removed]",
      "text/plain": [
       "<matplotlib.figure.Figure at 0x1a15bc5400>"
      ]
     },
     "metadata": {},
     "output_type": "display_data"
    }
   ],
   "source": [
    "fig = plt.figure(figsize=(10,10))\n",
    "\n",
    "fig.add_subplot(221)\n",
    "plt.hist(df['current_compensation'].dropna())\n",
    "plt.title('Current Compensation - Raw')\n",
    "\n",
    "fig.add_subplot(222)\n",
    "plt.hist(np.log(df['current_compensation'].dropna()))\n",
    "plt.title('Current Compensation - Log')\n",
    "\n",
    "fig.add_subplot(223)\n",
    "plt.hist(np.sqrt(df['current_compensation'].dropna()))\n",
    "plt.title('Current Compensation - Square root')\n",
    "\n",
    "fig.add_subplot(224)\n",
    "plt.hist((df['current_compensation']*df['current_compensation']))\n",
    "plt.title('Current Compensation - Squared')\n",
    "plt.show()"
   ]
  },
  {
   "cell_type": "code",
   "execution_count": 5,
   "metadata": {},
   "outputs": [],
   "source": [
    "df['current_comp_log'] = np.log(df['current_compensation'])\n",
    "df = df.drop('current_compensation', axis = 1)"
   ]
  },
  {
   "cell_type": "code",
   "execution_count": 6,
   "metadata": {
    "collapsed": true
   },
   "outputs": [],
   "source": [
    "df_train, df_test = train_test_split(df, test_size=0.2, random_state = 12)\n",
    "X_train = df_train.loc[:, ~(df_train.columns).isin(['next_year_compensation'])]\n",
    "Y_train = df_train['next_year_compensation']\n",
    "X_test = df_test.loc[:, ~(df_test.columns).isin(['next_year_compensation'])]\n",
    "Y_test = df_test['next_year_compensation']"
   ]
  },
  {
   "cell_type": "code",
   "execution_count": 7,
   "metadata": {
    "collapsed": true
   },
   "outputs": [],
   "source": [
    "linear = LinearRegression()\n",
    "ridge = Ridge()\n",
    "gbr = GradientBoostingRegressor()\n",
    "rfr = RandomForestRegressor()\n",
    "theilsan = TheilSenRegressor()\n",
    "ransac = RANSACRegressor()\n",
    "huber = HuberRegressor()"
   ]
  },
  {
   "cell_type": "code",
   "execution_count": 8,
   "metadata": {
    "collapsed": true
   },
   "outputs": [],
   "source": [
    "def get_metrics(model, dataframe):\n",
    "    x = dataframe.loc[:, ~(df_train.columns).isin(['next_year_compensation'])]\n",
    "    y = dataframe['next_year_compensation']\n",
    "    r2_scores = cross_val_score(model, x, y, cv=10)\n",
    "    r2 = r2_scores.mean()\n",
    "    mse_scores = cross_val_score(model,x,y, cv=10, scoring='neg_mean_squared_error')\n",
    "    mse = mse_scores.mean() * -1\n",
    "    rmse = np.sqrt(mse)\n",
    "    print(model)\n",
    "    print('R2 Score:', r2)\n",
    "    print('MSE:', mse)\n",
    "    print('RMSE:', rmse)"
   ]
  },
  {
   "cell_type": "code",
   "execution_count": 9,
   "metadata": {},
   "outputs": [
    {
     "name": "stdout",
     "output_type": "stream",
     "text": [
      "LinearRegression(copy_X=True, fit_intercept=True, n_jobs=1, normalize=False)\n",
      "R2 Score: 0.464680532213\n",
      "MSE: 189383587230.0\n",
      "RMSE: 435182.245996\n"
     ]
    }
   ],
   "source": [
    "get_metrics(linear, df_train)"
   ]
  },
  {
   "cell_type": "code",
   "execution_count": 10,
   "metadata": {},
   "outputs": [
    {
     "name": "stdout",
     "output_type": "stream",
     "text": [
      "Ridge(alpha=1.0, copy_X=True, fit_intercept=True, max_iter=None,\n",
      "   normalize=False, random_state=None, solver='auto', tol=0.001)\n",
      "R2 Score: 0.465677769388\n",
      "MSE: 189108173277.0\n",
      "RMSE: 434865.695678\n"
     ]
    }
   ],
   "source": [
    "get_metrics(ridge,df_train)"
   ]
  },
  {
   "cell_type": "code",
   "execution_count": 11,
   "metadata": {},
   "outputs": [
    {
     "name": "stdout",
     "output_type": "stream",
     "text": [
      "GradientBoostingRegressor(alpha=0.9, criterion='friedman_mse', init=None,\n",
      "             learning_rate=0.1, loss='ls', max_depth=3, max_features=None,\n",
      "             max_leaf_nodes=None, min_impurity_decrease=0.0,\n",
      "             min_impurity_split=None, min_samples_leaf=1,\n",
      "             min_samples_split=2, min_weight_fraction_leaf=0.0,\n",
      "             n_estimators=100, presort='auto', random_state=None,\n",
      "             subsample=1.0, verbose=0, warm_start=False)\n",
      "R2 Score: 0.920472659217\n",
      "MSE: 30731592968.0\n",
      "RMSE: 175304.286793\n"
     ]
    }
   ],
   "source": [
    "get_metrics(gbr, df_train)"
   ]
  },
  {
   "cell_type": "code",
   "execution_count": 12,
   "metadata": {},
   "outputs": [
    {
     "name": "stdout",
     "output_type": "stream",
     "text": [
      "RandomForestRegressor(bootstrap=True, criterion='mse', max_depth=None,\n",
      "           max_features='auto', max_leaf_nodes=None,\n",
      "           min_impurity_decrease=0.0, min_impurity_split=None,\n",
      "           min_samples_leaf=1, min_samples_split=2,\n",
      "           min_weight_fraction_leaf=0.0, n_estimators=10, n_jobs=1,\n",
      "           oob_score=False, random_state=None, verbose=0, warm_start=False)\n",
      "R2 Score: 0.92249909092\n",
      "MSE: 32647315949.8\n",
      "RMSE: 180685.682747\n"
     ]
    }
   ],
   "source": [
    "get_metrics(rfr, df_train)"
   ]
  },
  {
   "cell_type": "code",
   "execution_count": 13,
   "metadata": {},
   "outputs": [
    {
     "name": "stdout",
     "output_type": "stream",
     "text": [
      "TheilSenRegressor(copy_X=True, fit_intercept=True, max_iter=300,\n",
      "         max_subpopulation=10000, n_jobs=1, n_subsamples=None,\n",
      "         random_state=None, tol=0.001, verbose=False)\n",
      "R2 Score: 0.378504788383\n",
      "MSE: 238385742550.0\n",
      "RMSE: 488247.624213\n"
     ]
    }
   ],
   "source": [
    "get_metrics(theilsan, df_train)"
   ]
  },
  {
   "cell_type": "code",
   "execution_count": 14,
   "metadata": {},
   "outputs": [
    {
     "name": "stdout",
     "output_type": "stream",
     "text": [
      "RANSACRegressor(base_estimator=None, is_data_valid=None, is_model_valid=None,\n",
      "        loss='absolute_loss', max_skips=inf, max_trials=100,\n",
      "        min_samples=None, random_state=None, residual_metric=None,\n",
      "        residual_threshold=None, stop_n_inliers=inf, stop_probability=0.99,\n",
      "        stop_score=inf)\n",
      "R2 Score: 0.155134065732\n",
      "MSE: 316976082773.0\n",
      "RMSE: 563006.290172\n"
     ]
    }
   ],
   "source": [
    "get_metrics(ransac, df_train)"
   ]
  },
  {
   "cell_type": "code",
   "execution_count": 15,
   "metadata": {},
   "outputs": [
    {
     "name": "stdout",
     "output_type": "stream",
     "text": [
      "HuberRegressor(alpha=0.0001, epsilon=1.35, fit_intercept=True, max_iter=100,\n",
      "        tol=1e-05, warm_start=False)\n",
      "R2 Score: 0.221449238984\n",
      "MSE: 297789318602.0\n",
      "RMSE: 545700.75921\n"
     ]
    }
   ],
   "source": [
    "get_metrics(huber, df_train)"
   ]
  },
  {
   "cell_type": "code",
   "execution_count": null,
   "metadata": {
    "collapsed": true
   },
   "outputs": [],
   "source": [
    "# Not using Log of current compensation due to how bad scores were"
   ]
  }
 ],
 "metadata": {
  "kernelspec": {
   "display_name": "Python 3",
   "language": "python",
   "name": "python3"
  },
  "language_info": {
   "codemirror_mode": {
    "name": "ipython",
    "version": 3
   },
   "file_extension": ".py",
   "mimetype": "text/x-python",
   "name": "python",
   "nbconvert_exporter": "python",
   "pygments_lexer": "ipython3",
   "version": "3.6.3"
  }
 },
 "nbformat": 4,
 "nbformat_minor": 2
}
